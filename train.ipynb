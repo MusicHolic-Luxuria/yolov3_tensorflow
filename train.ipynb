{
  "cells": [
    {
      "cell_type": "code",
      "execution_count": null,
      "metadata": {},
      "outputs": [],
      "source": [
        "## 初始化程式, 自己設 PREFIX 的路徑\n",
        "import os\n",
        "WORK_DIR = \"/home/sean/yolov3_tensorflow\"\n",
        "%cd {WORK_DIR}\n",
        "\n",
        "SUPERVISOR_PROJECT_NAME = \"CAM1-24-4min-image\"\n",
        "\n",
        "SUPERVISOR_VIDEO_NAME = \"CAM1-24-4min.mp4\"\n",
        "\n",
        "!conda env list"
      ]
    },
    {
      "cell_type": "code",
      "execution_count": null,
      "metadata": {},
      "outputs": [],
      "source": [
        "## 下載 OID, OID 可以拿已經標記好的圖片\n",
        "!git clone https://github.com/theAIGuysCode/OIDv4_ToolKit.git\n",
        "## 安裝 OIDv4_ToolKit 下載圖片所需要的模組\n",
        "%cd {WORK_DIR}/OIDv4_ToolKit/\n",
        "%pip install -r ./requirements.txt"
      ]
    },
    {
      "cell_type": "code",
      "execution_count": null,
      "metadata": {},
      "outputs": [],
      "source": [
        "## 刪除已經下載的圖片及標記\n",
        "!rm -rf {WORK_DIR}/OIDv4_ToolKit/OID/Dataset/"
      ]
    },
    {
      "cell_type": "code",
      "execution_count": null,
      "metadata": {},
      "outputs": [],
      "source": [
        "## 下載圖片\n",
        "!python {WORK_DIR}/OIDv4_ToolKit/main.py downloader --classes Person --type_csv train --multiclasses 1 --limit 10 -y\n",
        "!python {WORK_DIR}/OIDv4_ToolKit/main.py downloader --classes Person --type_csv test --multiclasses 1 --limit 1 -y"
      ]
    },
    {
      "cell_type": "code",
      "execution_count": null,
      "metadata": {
        "colab": {
          "base_uri": "https://localhost:8080/"
        },
        "id": "FrlyvgZkjVTj",
        "outputId": "076c0ef1-9cc1-4c98-b814-f71d0ccf3bee"
      },
      "outputs": [],
      "source": [
        "#下載 darknet, darknet 可以用 yolov3 模型訓練及測試\n",
        "%cd {WORK_DIR}\n",
        "!git clone https://github.com/AlexeyAB/darknet.git"
      ]
    },
    {
      "cell_type": "markdown",
      "metadata": {},
      "source": [
        "這邊在自己的電腦做\n",
        "STEP 1: 下載影片\n",
        "STEP 2: 利用 supervisely 標記圖片\n",
        "STEP 3: 匯出標記好的 .json 和 image 會是 .rar \n",
        "STEP 4: 將 .rar 解壓縮 **到工作目錄**\n",
        "STEP 5: 利用 video_split_convert.py 將 `project_name`/`video_name`/img 轉換成 yolov3 所需要的格式"
      ]
    },
    {
      "cell_type": "code",
      "execution_count": null,
      "metadata": {},
      "outputs": [],
      "source": [
        "## 利用 video_split_convert.py 將 `project_name`/`video_name`/img 轉換成 yolov3 所需要的格式\n",
        "%cd {WORK_DIR}/{SUPERVISOR_PROJECT_NAME}/{SUPERVISOR_VIDEO_NAME}\n",
        "!cp -f video_split_convert.py {WORK_DIR}/{SUPERVISOR_PROJECT_NAME}/{SUPERVISOR_VIDEO_NAME}/\n",
        "!python {WORK_DIR}/{SUPERVISOR_PROJECT_NAME}/{SUPERVISOR_VIDEO_NAME}/video_split_convert.py"
      ]
    },
    {
      "cell_type": "code",
      "execution_count": null,
      "metadata": {
        "colab": {
          "base_uri": "https://localhost:8080/"
        },
        "id": "Yit5LqQyGjlV",
        "outputId": "2182eda2-c4e6-4e4f-b60b-c4c8913995a5"
      },
      "outputs": [],
      "source": [
        "## 把照片的資訊放到 train.txt 及 test.txt !!!warning 這邊可能可以改進 \n",
        "%cd {WORK_DIR}/{SUPERVISOR_PROJECT_NAME}/{SUPERVISOR_VIDEO_NAME}/img/\n",
        "\n",
        "!ls -d -1 \"$PWD/\"*.* | grep png > train.txt\n",
        "!ls -d -1 \"$PWD/\"*.* | grep png > test.txt\n",
        "!mv ./train.txt {WORK_DIR}/darknet/build/darknet/x64/data/train.txt\n",
        "!mv ./test.txt {WORK_DIR}/darknet/build/darknet/x64/data/test.txt"
      ]
    },
    {
      "cell_type": "code",
      "execution_count": null,
      "metadata": {
        "colab": {
          "base_uri": "https://localhost:8080/"
        },
        "id": "klGBIOcZwHQG",
        "outputId": "3522bee8-a261-444a-8cd8-abec09366fab"
      },
      "outputs": [],
      "source": [
        "## 更改 yolo 模型參數\n",
        "%cd {WORK_DIR}/darknet/\n",
        "!cp cfg/yolov3-tiny.cfg cfg/yolo-obj.cfg\n",
        "\n",
        "!sed -i \"s/batch=1/batch=32/\" cfg/yolo-obj.cfg\n",
        "!sed -i \"s/subdivisions=1/subdivisions=8/\" cfg/yolo-obj.cfg\n",
        "!sed -i \"s/max_batches = 500200/max_batches = 10000/\" cfg/yolo-obj.cfg\n",
        "!sed -i \"s/steps=400000,450000/steps=800,900/\" cfg/yolo-obj.cfg\n",
        "!sed -i \"s/classes=80/classes=1/g\" cfg/yolo-obj.cfg\n",
        "# (class + 5) * 3\n",
        "!sed -i \"s/filters=255/filters=18/g\" cfg/yolo-obj.cfg \n",
        "!sed -i \"s/mosaic=1/mosaic=0/g\" cfg/yolo-obj.cfg"
      ]
    },
    {
      "cell_type": "code",
      "execution_count": null,
      "metadata": {
        "id": "cFQQ4Ttiyvih"
      },
      "outputs": [],
      "source": [
        "## 宣告有什麼 class 及 各種檔案路徑\n",
        "!printf \"person\" > {WORK_DIR}/darknet/build/darknet/x64/data/obj.names\n",
        "!printf \"classes = 1\\ntrain  = {WORK_DIR}/darknet/build/darknet/x64/data/train.txt\\nvalid  = {WORK_DIR}/darknet/build/darknet/x64/data/test.txt\\nnames = {WORK_DIR}/darknet/build/darknet/x64/data/obj.names\\nbackup = backup/\" > {WORK_DIR}/darknet/build/darknet/x64/data/obj.data"
      ]
    },
    {
      "cell_type": "code",
      "execution_count": null,
      "metadata": {
        "colab": {
          "base_uri": "https://localhost:8080/"
        },
        "id": "Xdt3nj3JzU9o",
        "outputId": "33f0155f-63e2-4f84-e895-a80d030d4d3c"
      },
      "outputs": [],
      "source": [
        "## 將圖片放到指定路徑\n",
        "!rm -rf {WORK_DIR}/darknet/build/darknet/x64/data/obj/\n",
        "!mkdir -p {WORK_DIR}/darknet/build/darknet/x64/data/obj/\n",
        "!cp -r {WORK_DIR}/OIDv4_ToolKit/OID/Dataset/train/Person/* {WORK_DIR}/darknet/build/darknet/x64/data/obj/\n",
        "!cp -r {WORK_DIR}/OIDv4_ToolKit/OID/Dataset/test/Person/* {WORK_DIR}/darknet/build/darknet/x64/data/obj/"
      ]
    },
    {
      "cell_type": "code",
      "execution_count": null,
      "metadata": {
        "id": "b8jpjIaG6Y6-"
      },
      "outputs": [],
      "source": [
        "## 從預訓練參數開始訓練\n",
        "!cp {WORK_DIR}/yolov3-tiny.conv.11 {WORK_DIR}/darknet/build/darknet/x64/"
      ]
    },
    {
      "cell_type": "code",
      "execution_count": null,
      "metadata": {
        "id": "RfT6Zt_X85r7"
      },
      "outputs": [],
      "source": [
        "## 更改 darknet 的參數\n",
        "%cd {WORK_DIR}/darknet/\n",
        "!sed -i \"s/GPU=0/GPU=1/\" Makefile\n",
        "!sed -i \"s/CUDNN=0/CUDNN=1/\" Makefile\n",
        "!sed -i \"s/CUDNN_HALF=0/CUDNN_HALF=1/\" Makefile\n",
        "!sed -i \"s/OPENCV=1/OPENCV=0/\" Makefile\n",
        "!make "
      ]
    },
    {
      "cell_type": "code",
      "execution_count": null,
      "metadata": {
        "colab": {
          "base_uri": "https://localhost:8080/"
        },
        "id": "cavKxDvd62aj",
        "outputId": "9f323239-52db-4b7e-eb82-2a20a6e957f9"
      },
      "outputs": [],
      "source": [
        "%cd {WORK_DIR}/darknet/\n",
        "!./darknet detector train {WORK_DIR}/darknet/build/darknet/x64/data/obj.data {WORK_DIR}/darknet/cfg/yolo-obj.cfg {WORK_DIR}/yolov3-tiny.conv.11"
      ]
    }
  ],
  "metadata": {
    "accelerator": "GPU",
    "colab": {
      "collapsed_sections": [],
      "name": "tensorflow-yolov4-tflite",
      "provenance": []
    },
    "interpreter": {
      "hash": "4d7a402ef6ff0fcfec854543d33016c7bf15aea3fe4eb459e95b83dd1bc95071"
    },
    "kernelspec": {
      "display_name": "Python 3.10.4 ('yolov3_tensorflow')",
      "language": "python",
      "name": "python3"
    },
    "language_info": {
      "codemirror_mode": {
        "name": "ipython",
        "version": 3
      },
      "file_extension": ".py",
      "mimetype": "text/x-python",
      "name": "python",
      "nbconvert_exporter": "python",
      "pygments_lexer": "ipython3",
      "version": "3.10.4"
    }
  },
  "nbformat": 4,
  "nbformat_minor": 0
}
